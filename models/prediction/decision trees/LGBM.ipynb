{
 "cells": [
  {
   "cell_type": "markdown",
   "metadata": {},
   "source": [
    "# Import libraries"
   ]
  },
  {
   "cell_type": "code",
   "execution_count": 1,
   "metadata": {},
   "outputs": [],
   "source": [
    "from sklearn.model_selection import StratifiedKFold, KFold, RepeatedKFold\n",
    "from sklearn.model_selection import train_test_split\n",
    "from sklearn.preprocessing import StandardScaler\n",
    "import lightgbm as lgb\n",
    "import xgboost as xgb\n",
    "from tqdm import tqdm\n",
    "import pandas as pd\n",
    "import numpy as np\n",
    "import warnings\n",
    "import random\n",
    "import time\n",
    "import sys\n",
    "import os"
   ]
  },
  {
   "cell_type": "markdown",
   "metadata": {},
   "source": [
    "# Data preprocessing"
   ]
  },
  {
   "cell_type": "code",
   "execution_count": 2,
   "metadata": {},
   "outputs": [],
   "source": [
    "os.chdir('D:\\ISU\\MIS 536\\SEER Project\\CSV data')"
   ]
  },
  {
   "cell_type": "code",
   "execution_count": 3,
   "metadata": {},
   "outputs": [],
   "source": [
    "data = pd.read_csv('vfinal.csv')"
   ]
  },
  {
   "cell_type": "code",
   "execution_count": 61,
   "metadata": {},
   "outputs": [
    {
     "data": {
      "text/plain": [
       "count    742356.000000\n",
       "mean          2.106941\n",
       "std           0.607522\n",
       "min           1.000000\n",
       "25%           2.000000\n",
       "50%           2.000000\n",
       "75%           2.000000\n",
       "max           4.000000\n",
       "Name: GRADE, dtype: float64"
      ]
     },
     "execution_count": 61,
     "metadata": {},
     "output_type": "execute_result"
    }
   ],
   "source": [
    "data['GRADE'].describe()"
   ]
  },
  {
   "cell_type": "code",
   "execution_count": 6,
   "metadata": {},
   "outputs": [],
   "source": [
    "data = data.drop(['Unnamed: 0'],axis=1)"
   ]
  },
  {
   "cell_type": "code",
   "execution_count": 51,
   "metadata": {},
   "outputs": [],
   "source": [
    "data = data.drop(data[data['GRADE'] == 5].index)\n"
   ]
  },
  {
   "cell_type": "code",
   "execution_count": 62,
   "metadata": {},
   "outputs": [
    {
     "data": {
      "text/plain": [
       "2    505413\n",
       "3    135397\n",
       "1     86367\n",
       "4     15179\n",
       "Name: GRADE, dtype: int64"
      ]
     },
     "execution_count": 62,
     "metadata": {},
     "output_type": "execute_result"
    }
   ],
   "source": [
    "data['GRADE'].value_counts()"
   ]
  },
  {
   "cell_type": "code",
   "execution_count": 63,
   "metadata": {},
   "outputs": [],
   "source": [
    "data['GRADE'] = data['GRADE'].replace({1:0, 2:1, 3:2, 4:3})"
   ]
  },
  {
   "cell_type": "code",
   "execution_count": 64,
   "metadata": {},
   "outputs": [
    {
     "data": {
      "text/plain": [
       "1    505413\n",
       "2    135397\n",
       "0     86367\n",
       "3     15179\n",
       "Name: GRADE, dtype: int64"
      ]
     },
     "execution_count": 64,
     "metadata": {},
     "output_type": "execute_result"
    }
   ],
   "source": [
    "data['GRADE'].value_counts()"
   ]
  },
  {
   "cell_type": "markdown",
   "metadata": {},
   "source": [
    "## List of columns"
   ]
  },
  {
   "cell_type": "code",
   "execution_count": 7,
   "metadata": {},
   "outputs": [
    {
     "data": {
      "text/plain": [
       "Index(['DX_CONF', 'REPT_SRC', 'RECNOREC', 'SITERWHO', 'BEHTREND', 'IHSLINK',\n",
       "       'REG_Connecticut', 'REG_Greater California', 'REG_Greater Georgia',\n",
       "       'REG_Hawaii', 'REG_Idaho', 'REG_Iowa', 'REG_Kentucky',\n",
       "       'REG_Los Angeles', 'REG_Louisiana', 'REG_Massachusetts',\n",
       "       'REG_Metropolitan Atlanta', 'REG_Metropolitan Detroit',\n",
       "       'REG_New Jersey', 'REG_New Mexico', 'REG_New York', 'REG_Other',\n",
       "       'REG_San Francisco-Oakland SMSA', 'REG_San Jose-Monterey',\n",
       "       'REG_Seattle (Puget Sound)', 'REG_Utah', 'SEX_Female', 'SEX_Male',\n",
       "       'PRIMSITE_C180', 'PRIMSITE_C181', 'PRIMSITE_C182', 'PRIMSITE_C183',\n",
       "       'PRIMSITE_C184', 'PRIMSITE_C185', 'PRIMSITE_C186', 'PRIMSITE_C187',\n",
       "       'PRIMSITE_C189', 'PRIMSITE_C199', 'PRIMSITE_C209', 'PRIMSITE_Other',\n",
       "       'LATERAL_Not a paired site', 'LATERAL_Other', 'LATERAL_Paired site',\n",
       "       'LATERAL_Right: origin of primary', 'HISTO3V_14573', 'HISTO3V_19802',\n",
       "       'HISTO3V_20705', 'HISTO3V_26537', 'HISTO3V_27180', 'HISTO3V_564824',\n",
       "       'HISTO3V_59323', 'HISTO3V_80457', 'HISTO3V_89512', 'HISTO3V_Other',\n",
       "       'BEHO3V_Carcinoma in situ', 'BEHO3V_Malignant - Invasive',\n",
       "       'ICCC3WHO_20741', 'ICCC3WHO_51011', 'ICCC3WHO_865064', 'ICCC3WHO_Other',\n",
       "       'ICCC3XWHO_16649', 'ICCC3XWHO_20741', 'ICCC3XWHO_51011',\n",
       "       'ICCC3XWHO_847978', 'ICCC3XWHO_Other', 'HISTREC_20742', 'HISTREC_21570',\n",
       "       'HISTREC_803423', 'HISTREC_84176', 'HISTREC_Other', 'RAC_RECA_Black',\n",
       "       'RAC_RECA_Other', 'RAC_RECA_Unknown', 'RAC_RECA_White',\n",
       "       'AYASITERWHO_20741', 'AYASITERWHO_51000', 'AYASITERWHO_865106',\n",
       "       'AYASITERWHO_Other', 'INTPRIM_Excluded', 'INTPRIM_No', 'INTPRIM_Yes',\n",
       "       'SCSSM2KO_0', 'SCSSM2KO_1', 'SCSSM2KO_2', 'SCSSM2KO_3', 'SCSSM2KO_4',\n",
       "       'SCSSM2KO_7', 'SCSSM2KO_9', 'SCSSM2KO_Other', 'AGE_DX', 'YR_BIRTH',\n",
       "       'SEQ_NUM', 'MDXRECMP', 'YEAR_DX', 'GRADE', 'AGE_IREC', 'FIRSTPRM'],\n",
       "      dtype='object')"
      ]
     },
     "execution_count": 7,
     "metadata": {},
     "output_type": "execute_result"
    }
   ],
   "source": [
    "data.columns"
   ]
  },
  {
   "cell_type": "code",
   "execution_count": 65,
   "metadata": {},
   "outputs": [],
   "source": [
    "X = data.drop(['GRADE'],axis=1)"
   ]
  },
  {
   "cell_type": "code",
   "execution_count": 66,
   "metadata": {},
   "outputs": [],
   "source": [
    "y = data['GRADE']"
   ]
  },
  {
   "cell_type": "markdown",
   "metadata": {},
   "source": [
    "## Test-train split"
   ]
  },
  {
   "cell_type": "code",
   "execution_count": 67,
   "metadata": {},
   "outputs": [],
   "source": [
    "X_train, X_test, y_train, y_test = train_test_split(X, y, test_size=0.3, random_state=42)"
   ]
  },
  {
   "cell_type": "markdown",
   "metadata": {},
   "source": [
    "# Predictive analysis"
   ]
  },
  {
   "cell_type": "markdown",
   "metadata": {},
   "source": [
    "## LGBM"
   ]
  },
  {
   "cell_type": "markdown",
   "metadata": {},
   "source": [
    "**Setting up folds for crossfold validation**"
   ]
  },
  {
   "cell_type": "code",
   "execution_count": 68,
   "metadata": {},
   "outputs": [],
   "source": [
    "folds = KFold(n_splits=5, shuffle=True, random_state=42)"
   ]
  },
  {
   "cell_type": "markdown",
   "metadata": {},
   "source": [
    "**Model parameters**"
   ]
  },
  {
   "cell_type": "code",
   "execution_count": 72,
   "metadata": {},
   "outputs": [],
   "source": [
    "params = {'objective' : \"multiclass\",\n",
    "               'num_class':4,\n",
    "               'boosting':\"gbdt\",\n",
    "               'metric':\"multi_error\",\n",
    "               'boost_from_average':\"false\",\n",
    "               'num_threads':8,\n",
    "               'learning_rate' : 0.001,\n",
    "               'num_leaves' : 100,\n",
    "               'max_depth':-1,\n",
    "               'tree_learner' : \"serial\",\n",
    "               'feature_fraction' : 0.85,\n",
    "               'bagging_freq' : 1,\n",
    "               'bagging_fraction' : 0.85,\n",
    "               'min_data_in_leaf' : 1000,\n",
    "               'verbosity' : -1}"
   ]
  },
  {
   "cell_type": "code",
   "execution_count": 73,
   "metadata": {},
   "outputs": [
    {
     "name": "stderr",
     "output_type": "stream",
     "text": [
      "\n",
      "\n",
      "\n",
      "\n",
      "0it [00:00, ?it/s]"
     ]
    },
    {
     "name": "stdout",
     "output_type": "stream",
     "text": [
      "Fold 0 started at Thu Oct 31 13:06:18 2019\n",
      "Training until validation scores don't improve for 20 rounds\n",
      "Early stopping, best iteration is:\n",
      "[1]\ttraining's multi_error: 0.293153\tvalid_1's multi_error: 0.291489\n"
     ]
    },
    {
     "name": "stderr",
     "output_type": "stream",
     "text": [
      "\n",
      "\n",
      "\n",
      "\n",
      "1it [00:06,  6.79s/it]"
     ]
    },
    {
     "name": "stdout",
     "output_type": "stream",
     "text": [
      "Fold 1 started at Thu Oct 31 13:06:25 2019\n",
      "Training until validation scores don't improve for 20 rounds\n",
      "Early stopping, best iteration is:\n",
      "[1]\ttraining's multi_error: 0.292737\tvalid_1's multi_error: 0.293202\n"
     ]
    },
    {
     "name": "stderr",
     "output_type": "stream",
     "text": [
      "\n",
      "\n",
      "\n",
      "\n",
      "2it [00:13,  6.85s/it]"
     ]
    },
    {
     "name": "stdout",
     "output_type": "stream",
     "text": [
      "Fold 2 started at Thu Oct 31 13:06:32 2019\n",
      "Training until validation scores don't improve for 20 rounds\n",
      "Early stopping, best iteration is:\n",
      "[19]\ttraining's multi_error: 0.292897\tvalid_1's multi_error: 0.293202\n"
     ]
    },
    {
     "name": "stderr",
     "output_type": "stream",
     "text": [
      "\n",
      "\n",
      "\n",
      "\n",
      "3it [00:24,  8.08s/it]"
     ]
    },
    {
     "name": "stdout",
     "output_type": "stream",
     "text": [
      "Fold 3 started at Thu Oct 31 13:06:43 2019\n",
      "Training until validation scores don't improve for 20 rounds\n",
      "Early stopping, best iteration is:\n",
      "[1]\ttraining's multi_error: 0.29238\tvalid_1's multi_error: 0.294051\n"
     ]
    },
    {
     "name": "stderr",
     "output_type": "stream",
     "text": [
      "\n",
      "\n",
      "\n",
      "\n",
      "4it [00:31,  7.73s/it]"
     ]
    },
    {
     "name": "stdout",
     "output_type": "stream",
     "text": [
      "Fold 4 started at Thu Oct 31 13:06:50 2019\n",
      "Training until validation scores don't improve for 20 rounds\n",
      "Early stopping, best iteration is:\n",
      "[1]\ttraining's multi_error: 0.292811\tvalid_1's multi_error: 0.292306\n"
     ]
    },
    {
     "name": "stderr",
     "output_type": "stream",
     "text": [
      "\n",
      "\n",
      "\n",
      "\n",
      "5it [00:38,  7.71s/it]\n"
     ]
    },
    {
     "name": "stdout",
     "output_type": "stream",
     "text": [
      "Wall time: 38.5 s\n"
     ]
    }
   ],
   "source": [
    "%%time\n",
    "y_pred_lgb = np.zeros(len(X_test))\n",
    "for fold_n, (train_index, valid_index) in tqdm(enumerate(folds.split(X))):\n",
    "    print('Fold', fold_n, 'started at', time.ctime())\n",
    "    X_train, X_valid = X.iloc[train_index], X.iloc[valid_index]\n",
    "    y_train, y_valid = y.iloc[train_index], y.iloc[valid_index]\n",
    "        \n",
    "    model = lgb.LGBMRegressor(**params, n_estimators = 300000, n_jobs = -1)\n",
    "    model.fit(X_train, y_train, \n",
    "                    eval_set=[(X_train, y_train), (X_valid, y_valid)], eval_metric='multi_error',\n",
    "                    verbose=1000, early_stopping_rounds=20)\n",
    "            \n",
    "    y_pred_valid = model.predict(X_valid)"
   ]
  },
  {
   "cell_type": "code",
   "execution_count": null,
   "metadata": {},
   "outputs": [],
   "source": [
    "'REG_Other','SEX_Female','PRIMSITE_Other','LATERAL_Other','HISTO3V_Other','BEHO3V_Malignant - Invasive','ICCC3WHO_Other',\n",
    "'ICCC3XWHO_Other','HISTREC_Other','RAC_RECA_Other','AYASITERWHO_Other','INTPRIM_Excluded','SCSSM2KO_Other'"
   ]
  }
 ],
 "metadata": {
  "kernelspec": {
   "display_name": "Python 3",
   "language": "python",
   "name": "python3"
  },
  "language_info": {
   "codemirror_mode": {
    "name": "ipython",
    "version": 3
   },
   "file_extension": ".py",
   "mimetype": "text/x-python",
   "name": "python",
   "nbconvert_exporter": "python",
   "pygments_lexer": "ipython3",
   "version": "3.7.4"
  }
 },
 "nbformat": 4,
 "nbformat_minor": 2
}
