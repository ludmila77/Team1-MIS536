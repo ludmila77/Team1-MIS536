{
 "cells": [
  {
   "cell_type": "markdown",
   "metadata": {},
   "source": [
    "# Import libraries"
   ]
  },
  {
   "cell_type": "code",
   "execution_count": 109,
   "metadata": {},
   "outputs": [],
   "source": [
    "from sklearn.model_selection import StratifiedKFold, KFold, RepeatedKFold\n",
    "from sklearn.model_selection import train_test_split\n",
    "from sklearn.preprocessing import StandardScaler\n",
    "from sklearn.utils import resample\n",
    "import lightgbm as lgb\n",
    "import xgboost as xgb\n",
    "from tqdm import tqdm\n",
    "import pandas as pd\n",
    "import numpy as np\n",
    "import warnings\n",
    "import random\n",
    "import time\n",
    "import sys\n",
    "import os"
   ]
  },
  {
   "cell_type": "markdown",
   "metadata": {},
   "source": [
    "# Data preprocessing"
   ]
  },
  {
   "cell_type": "code",
   "execution_count": 2,
   "metadata": {},
   "outputs": [],
   "source": [
    "os.chdir('D:\\ISU\\MIS 536\\SEER Project\\CSV data')"
   ]
  },
  {
   "cell_type": "code",
   "execution_count": 3,
   "metadata": {},
   "outputs": [],
   "source": [
    "data = pd.read_csv('vfinal.csv')"
   ]
  },
  {
   "cell_type": "code",
   "execution_count": 61,
   "metadata": {},
   "outputs": [
    {
     "data": {
      "text/plain": [
       "count    742356.000000\n",
       "mean          2.106941\n",
       "std           0.607522\n",
       "min           1.000000\n",
       "25%           2.000000\n",
       "50%           2.000000\n",
       "75%           2.000000\n",
       "max           4.000000\n",
       "Name: GRADE, dtype: float64"
      ]
     },
     "execution_count": 61,
     "metadata": {},
     "output_type": "execute_result"
    }
   ],
   "source": [
    "data['GRADE'].describe()"
   ]
  },
  {
   "cell_type": "code",
   "execution_count": 6,
   "metadata": {},
   "outputs": [],
   "source": [
    "data = data.drop(['Unnamed: 0'],axis=1)"
   ]
  },
  {
   "cell_type": "code",
   "execution_count": 51,
   "metadata": {},
   "outputs": [],
   "source": [
    "data = data.drop(data[data['GRADE'] == 5].index)\n"
   ]
  },
  {
   "cell_type": "code",
   "execution_count": 62,
   "metadata": {},
   "outputs": [
    {
     "data": {
      "text/plain": [
       "2    505413\n",
       "3    135397\n",
       "1     86367\n",
       "4     15179\n",
       "Name: GRADE, dtype: int64"
      ]
     },
     "execution_count": 62,
     "metadata": {},
     "output_type": "execute_result"
    }
   ],
   "source": [
    "data['GRADE'].value_counts()"
   ]
  },
  {
   "cell_type": "code",
   "execution_count": 63,
   "metadata": {},
   "outputs": [],
   "source": [
    "data['GRADE'] = data['GRADE'].replace({1:0, 2:1, 3:2, 4:3})"
   ]
  },
  {
   "cell_type": "code",
   "execution_count": 120,
   "metadata": {},
   "outputs": [
    {
     "data": {
      "text/plain": [
       "1    505413\n",
       "2    135397\n",
       "0     86367\n",
       "3     15179\n",
       "Name: GRADE, dtype: int64"
      ]
     },
     "execution_count": 120,
     "metadata": {},
     "output_type": "execute_result"
    }
   ],
   "source": [
    "data['GRADE'].value_counts()"
   ]
  },
  {
   "cell_type": "markdown",
   "metadata": {},
   "source": [
    "## List of columns"
   ]
  },
  {
   "cell_type": "code",
   "execution_count": 7,
   "metadata": {},
   "outputs": [
    {
     "data": {
      "text/plain": [
       "Index(['DX_CONF', 'REPT_SRC', 'RECNOREC', 'SITERWHO', 'BEHTREND', 'IHSLINK',\n",
       "       'REG_Connecticut', 'REG_Greater California', 'REG_Greater Georgia',\n",
       "       'REG_Hawaii', 'REG_Idaho', 'REG_Iowa', 'REG_Kentucky',\n",
       "       'REG_Los Angeles', 'REG_Louisiana', 'REG_Massachusetts',\n",
       "       'REG_Metropolitan Atlanta', 'REG_Metropolitan Detroit',\n",
       "       'REG_New Jersey', 'REG_New Mexico', 'REG_New York', 'REG_Other',\n",
       "       'REG_San Francisco-Oakland SMSA', 'REG_San Jose-Monterey',\n",
       "       'REG_Seattle (Puget Sound)', 'REG_Utah', 'SEX_Female', 'SEX_Male',\n",
       "       'PRIMSITE_C180', 'PRIMSITE_C181', 'PRIMSITE_C182', 'PRIMSITE_C183',\n",
       "       'PRIMSITE_C184', 'PRIMSITE_C185', 'PRIMSITE_C186', 'PRIMSITE_C187',\n",
       "       'PRIMSITE_C189', 'PRIMSITE_C199', 'PRIMSITE_C209', 'PRIMSITE_Other',\n",
       "       'LATERAL_Not a paired site', 'LATERAL_Other', 'LATERAL_Paired site',\n",
       "       'LATERAL_Right: origin of primary', 'HISTO3V_14573', 'HISTO3V_19802',\n",
       "       'HISTO3V_20705', 'HISTO3V_26537', 'HISTO3V_27180', 'HISTO3V_564824',\n",
       "       'HISTO3V_59323', 'HISTO3V_80457', 'HISTO3V_89512', 'HISTO3V_Other',\n",
       "       'BEHO3V_Carcinoma in situ', 'BEHO3V_Malignant - Invasive',\n",
       "       'ICCC3WHO_20741', 'ICCC3WHO_51011', 'ICCC3WHO_865064', 'ICCC3WHO_Other',\n",
       "       'ICCC3XWHO_16649', 'ICCC3XWHO_20741', 'ICCC3XWHO_51011',\n",
       "       'ICCC3XWHO_847978', 'ICCC3XWHO_Other', 'HISTREC_20742', 'HISTREC_21570',\n",
       "       'HISTREC_803423', 'HISTREC_84176', 'HISTREC_Other', 'RAC_RECA_Black',\n",
       "       'RAC_RECA_Other', 'RAC_RECA_Unknown', 'RAC_RECA_White',\n",
       "       'AYASITERWHO_20741', 'AYASITERWHO_51000', 'AYASITERWHO_865106',\n",
       "       'AYASITERWHO_Other', 'INTPRIM_Excluded', 'INTPRIM_No', 'INTPRIM_Yes',\n",
       "       'SCSSM2KO_0', 'SCSSM2KO_1', 'SCSSM2KO_2', 'SCSSM2KO_3', 'SCSSM2KO_4',\n",
       "       'SCSSM2KO_7', 'SCSSM2KO_9', 'SCSSM2KO_Other', 'AGE_DX', 'YR_BIRTH',\n",
       "       'SEQ_NUM', 'MDXRECMP', 'YEAR_DX', 'GRADE', 'AGE_IREC', 'FIRSTPRM'],\n",
       "      dtype='object')"
      ]
     },
     "execution_count": 7,
     "metadata": {},
     "output_type": "execute_result"
    }
   ],
   "source": [
    "data.columns"
   ]
  },
  {
   "cell_type": "code",
   "execution_count": 65,
   "metadata": {},
   "outputs": [],
   "source": [
    "X = data.drop(['GRADE'],axis=1)"
   ]
  },
  {
   "cell_type": "code",
   "execution_count": 66,
   "metadata": {},
   "outputs": [],
   "source": [
    "y = data['GRADE']"
   ]
  },
  {
   "cell_type": "markdown",
   "metadata": {},
   "source": [
    "## Test-train split"
   ]
  },
  {
   "cell_type": "code",
   "execution_count": 67,
   "metadata": {},
   "outputs": [],
   "source": [
    "X_train, X_test, y_train, y_test = train_test_split(X, y, test_size=0.3, random_state=42)"
   ]
  },
  {
   "cell_type": "markdown",
   "metadata": {},
   "source": [
    "# Predictive analysis"
   ]
  },
  {
   "cell_type": "markdown",
   "metadata": {},
   "source": [
    "## LGBM"
   ]
  },
  {
   "cell_type": "markdown",
   "metadata": {},
   "source": [
    "**Setting up folds for crossfold validation**"
   ]
  },
  {
   "cell_type": "code",
   "execution_count": 88,
   "metadata": {},
   "outputs": [],
   "source": [
    "folds = KFold(n_splits=5, shuffle=True, random_state=42)"
   ]
  },
  {
   "cell_type": "markdown",
   "metadata": {},
   "source": [
    "**Model parameters**"
   ]
  },
  {
   "cell_type": "code",
   "execution_count": 89,
   "metadata": {},
   "outputs": [],
   "source": [
    "params = {'objective' : \"multiclass\",\n",
    "               'num_class':4,\n",
    "               'boosting':\"gbdt\",\n",
    "               'metric':\"multi_error\",\n",
    "               'boost_from_average':\"false\",\n",
    "               'num_threads':8,\n",
    "               'learning_rate' : 0.0001,\n",
    "               'num_leaves' : 30,\n",
    "               'max_depth':-1,\n",
    "               'tree_learner' : \"serial\",\n",
    "               'feature_fraction' : 0.85,\n",
    "               'bagging_freq' : 1,\n",
    "               'bagging_fraction' : 0.85,\n",
    "               'min_data_in_leaf' : 50,\n",
    "               'verbosity' : -1}"
   ]
  },
  {
   "cell_type": "code",
   "execution_count": 90,
   "metadata": {},
   "outputs": [
    {
     "name": "stderr",
     "output_type": "stream",
     "text": [
      "\n",
      "\n",
      "\n",
      "\n",
      "0it [00:00, ?it/s]"
     ]
    },
    {
     "name": "stdout",
     "output_type": "stream",
     "text": [
      "Fold 0 started at Thu Oct 31 14:05:05 2019\n",
      "Training until validation scores don't improve for 20 rounds\n",
      "Early stopping, best iteration is:\n",
      "[23]\ttraining's multi_error: 0.291591\tvalid_1's multi_error: 0.2899\n"
     ]
    },
    {
     "name": "stderr",
     "output_type": "stream",
     "text": [
      "\n",
      "\n",
      "\n",
      "\n",
      "1it [00:09,  9.28s/it]"
     ]
    },
    {
     "name": "stdout",
     "output_type": "stream",
     "text": [
      "Fold 1 started at Thu Oct 31 14:05:14 2019\n",
      "Training until validation scores don't improve for 20 rounds\n",
      "Early stopping, best iteration is:\n",
      "[11]\ttraining's multi_error: 0.29142\tvalid_1's multi_error: 0.291794\n"
     ]
    },
    {
     "name": "stderr",
     "output_type": "stream",
     "text": [
      "\n",
      "\n",
      "\n",
      "\n",
      "2it [00:16,  8.65s/it]"
     ]
    },
    {
     "name": "stdout",
     "output_type": "stream",
     "text": [
      "Fold 2 started at Thu Oct 31 14:05:22 2019\n",
      "Training until validation scores don't improve for 20 rounds\n",
      "Early stopping, best iteration is:\n",
      "[13]\ttraining's multi_error: 0.291524\tvalid_1's multi_error: 0.291835\n"
     ]
    },
    {
     "name": "stderr",
     "output_type": "stream",
     "text": [
      "\n",
      "\n",
      "\n",
      "\n",
      "3it [00:24,  8.36s/it]"
     ]
    },
    {
     "name": "stdout",
     "output_type": "stream",
     "text": [
      "Fold 3 started at Thu Oct 31 14:05:29 2019\n",
      "Training until validation scores don't improve for 20 rounds\n",
      "Early stopping, best iteration is:\n",
      "[3]\ttraining's multi_error: 0.291306\tvalid_1's multi_error: 0.292926\n"
     ]
    },
    {
     "name": "stderr",
     "output_type": "stream",
     "text": [
      "\n",
      "\n",
      "\n",
      "\n",
      "4it [00:30,  7.66s/it]"
     ]
    },
    {
     "name": "stdout",
     "output_type": "stream",
     "text": [
      "Fold 4 started at Thu Oct 31 14:05:35 2019\n",
      "Training until validation scores don't improve for 20 rounds\n",
      "Early stopping, best iteration is:\n",
      "[4]\ttraining's multi_error: 0.291386\tvalid_1's multi_error: 0.290845\n"
     ]
    },
    {
     "name": "stderr",
     "output_type": "stream",
     "text": [
      "\n",
      "\n",
      "\n",
      "\n",
      "5it [00:36,  7.26s/it]\n"
     ]
    },
    {
     "name": "stdout",
     "output_type": "stream",
     "text": [
      "Wall time: 36.3 s\n"
     ]
    }
   ],
   "source": [
    "%%time\n",
    "y_pred_lgb = np.zeros(len(X_test))\n",
    "for fold_n, (train_index, valid_index) in tqdm(enumerate(folds.split(X))):\n",
    "    print('Fold', fold_n, 'started at', time.ctime())\n",
    "    X_train, X_valid = X.iloc[train_index], X.iloc[valid_index]\n",
    "    y_train, y_valid = y.iloc[train_index], y.iloc[valid_index]\n",
    "        \n",
    "    model = lgb.LGBMRegressor(**params, n_estimators = 5000, n_jobs = -1)\n",
    "    model.fit(X_train, y_train, \n",
    "                    eval_set=[(X_train, y_train), (X_valid, y_valid)], eval_metric='multi_error',\n",
    "                    verbose=1000, early_stopping_rounds=20)\n",
    "            \n",
    "    y_pred_valid = model.predict(X_valid)"
   ]
  },
  {
   "cell_type": "markdown",
   "metadata": {},
   "source": [
    "# Binary Classification"
   ]
  },
  {
   "cell_type": "markdown",
   "metadata": {},
   "source": [
    "## Data Prep"
   ]
  },
  {
   "cell_type": "code",
   "execution_count": 87,
   "metadata": {},
   "outputs": [],
   "source": [
    "data['TARGET'] = [1 if i >= 2 else 0 for i in data['GRADE']]"
   ]
  },
  {
   "cell_type": "code",
   "execution_count": 91,
   "metadata": {},
   "outputs": [
    {
     "data": {
      "text/plain": [
       "Index(['DX_CONF', 'REPT_SRC', 'RECNOREC', 'SITERWHO', 'BEHTREND', 'IHSLINK',\n",
       "       'REG_Connecticut', 'REG_Greater California', 'REG_Greater Georgia',\n",
       "       'REG_Hawaii', 'REG_Idaho', 'REG_Iowa', 'REG_Kentucky',\n",
       "       'REG_Los Angeles', 'REG_Louisiana', 'REG_Massachusetts',\n",
       "       'REG_Metropolitan Atlanta', 'REG_Metropolitan Detroit',\n",
       "       'REG_New Jersey', 'REG_New Mexico', 'REG_New York', 'REG_Other',\n",
       "       'REG_San Francisco-Oakland SMSA', 'REG_San Jose-Monterey',\n",
       "       'REG_Seattle (Puget Sound)', 'REG_Utah', 'SEX_Female', 'SEX_Male',\n",
       "       'PRIMSITE_C180', 'PRIMSITE_C181', 'PRIMSITE_C182', 'PRIMSITE_C183',\n",
       "       'PRIMSITE_C184', 'PRIMSITE_C185', 'PRIMSITE_C186', 'PRIMSITE_C187',\n",
       "       'PRIMSITE_C189', 'PRIMSITE_C199', 'PRIMSITE_C209', 'PRIMSITE_Other',\n",
       "       'LATERAL_Not a paired site', 'LATERAL_Other', 'LATERAL_Paired site',\n",
       "       'LATERAL_Right: origin of primary', 'HISTO3V_14573', 'HISTO3V_19802',\n",
       "       'HISTO3V_20705', 'HISTO3V_26537', 'HISTO3V_27180', 'HISTO3V_564824',\n",
       "       'HISTO3V_59323', 'HISTO3V_80457', 'HISTO3V_89512', 'HISTO3V_Other',\n",
       "       'BEHO3V_Carcinoma in situ', 'BEHO3V_Malignant - Invasive',\n",
       "       'ICCC3WHO_20741', 'ICCC3WHO_51011', 'ICCC3WHO_865064', 'ICCC3WHO_Other',\n",
       "       'ICCC3XWHO_16649', 'ICCC3XWHO_20741', 'ICCC3XWHO_51011',\n",
       "       'ICCC3XWHO_847978', 'ICCC3XWHO_Other', 'HISTREC_20742', 'HISTREC_21570',\n",
       "       'HISTREC_803423', 'HISTREC_84176', 'HISTREC_Other', 'RAC_RECA_Black',\n",
       "       'RAC_RECA_Other', 'RAC_RECA_Unknown', 'RAC_RECA_White',\n",
       "       'AYASITERWHO_20741', 'AYASITERWHO_51000', 'AYASITERWHO_865106',\n",
       "       'AYASITERWHO_Other', 'INTPRIM_Excluded', 'INTPRIM_No', 'INTPRIM_Yes',\n",
       "       'SCSSM2KO_0', 'SCSSM2KO_1', 'SCSSM2KO_2', 'SCSSM2KO_3', 'SCSSM2KO_4',\n",
       "       'SCSSM2KO_7', 'SCSSM2KO_9', 'SCSSM2KO_Other', 'AGE_DX', 'YR_BIRTH',\n",
       "       'SEQ_NUM', 'MDXRECMP', 'YEAR_DX', 'GRADE', 'AGE_IREC', 'FIRSTPRM',\n",
       "       'TARGET'],\n",
       "      dtype='object')"
      ]
     },
     "execution_count": 91,
     "metadata": {},
     "output_type": "execute_result"
    }
   ],
   "source": [
    "data.columns"
   ]
  },
  {
   "cell_type": "code",
   "execution_count": 93,
   "metadata": {},
   "outputs": [],
   "source": [
    "X = data.drop(['GRADE','TARGET'],axis=1)"
   ]
  },
  {
   "cell_type": "code",
   "execution_count": 95,
   "metadata": {},
   "outputs": [],
   "source": [
    "y = data['TARGET']"
   ]
  },
  {
   "cell_type": "code",
   "execution_count": 96,
   "metadata": {},
   "outputs": [],
   "source": [
    "X_train, X_test, y_train, y_test = train_test_split(X, y, test_size=0.3, random_state=42)"
   ]
  },
  {
   "cell_type": "markdown",
   "metadata": {},
   "source": [
    "## LGBM"
   ]
  },
  {
   "cell_type": "code",
   "execution_count": 97,
   "metadata": {},
   "outputs": [],
   "source": [
    "folds = KFold(n_splits=5, shuffle=True, random_state=42)"
   ]
  },
  {
   "cell_type": "code",
   "execution_count": 103,
   "metadata": {},
   "outputs": [],
   "source": [
    "params = {'objective' : \"binary\",\n",
    "               'num_class':1,\n",
    "               'boosting':\"gbdt\",\n",
    "               'metric':\"binary_error\",\n",
    "               'boost_from_average':\"false\",\n",
    "               'num_threads':8,\n",
    "               'learning_rate' : 0.0001,\n",
    "               'num_leaves' : 50,\n",
    "               'max_depth':-1,\n",
    "               'tree_learner' : \"serial\",\n",
    "               'feature_fraction' : 0.85,\n",
    "               'bagging_freq' : 1,\n",
    "               'bagging_fraction' : 0.85,\n",
    "               'min_data_in_leaf' : 10,\n",
    "               'verbosity' : -1}"
   ]
  },
  {
   "cell_type": "code",
   "execution_count": 104,
   "metadata": {
    "scrolled": true
   },
   "outputs": [
    {
     "name": "stderr",
     "output_type": "stream",
     "text": [
      "\n",
      "\n",
      "\n",
      "\n",
      "0it [00:00, ?it/s]"
     ]
    },
    {
     "name": "stdout",
     "output_type": "stream",
     "text": [
      "Fold 0 started at Thu Oct 31 14:11:10 2019\n",
      "Training until validation scores don't improve for 30 rounds\n",
      "Early stopping, best iteration is:\n",
      "[49]\ttraining's binary_error: 0.185257\tvalid_1's binary_error: 0.184486\n"
     ]
    },
    {
     "name": "stderr",
     "output_type": "stream",
     "text": [
      "\n",
      "\n",
      "\n",
      "\n",
      "1it [00:05,  6.00s/it]"
     ]
    },
    {
     "name": "stdout",
     "output_type": "stream",
     "text": [
      "Fold 1 started at Thu Oct 31 14:11:16 2019\n",
      "Training until validation scores don't improve for 30 rounds\n",
      "Early stopping, best iteration is:\n",
      "[26]\ttraining's binary_error: 0.184792\tvalid_1's binary_error: 0.186488\n"
     ]
    },
    {
     "name": "stderr",
     "output_type": "stream",
     "text": [
      "\n",
      "\n",
      "\n",
      "\n",
      "2it [00:11,  5.72s/it]"
     ]
    },
    {
     "name": "stdout",
     "output_type": "stream",
     "text": [
      "Fold 2 started at Thu Oct 31 14:11:21 2019\n",
      "Training until validation scores don't improve for 30 rounds\n",
      "Early stopping, best iteration is:\n",
      "[31]\ttraining's binary_error: 0.185349\tvalid_1's binary_error: 0.18413\n"
     ]
    },
    {
     "name": "stderr",
     "output_type": "stream",
     "text": [
      "\n",
      "\n",
      "\n",
      "\n",
      "3it [00:16,  5.69s/it]"
     ]
    },
    {
     "name": "stdout",
     "output_type": "stream",
     "text": [
      "Fold 3 started at Thu Oct 31 14:11:27 2019\n",
      "Training until validation scores don't improve for 30 rounds\n",
      "Early stopping, best iteration is:\n",
      "[28]\ttraining's binary_error: 0.185058\tvalid_1's binary_error: 0.185161\n"
     ]
    },
    {
     "name": "stderr",
     "output_type": "stream",
     "text": [
      "\n",
      "\n",
      "\n",
      "\n",
      "4it [00:21,  5.51s/it]"
     ]
    },
    {
     "name": "stdout",
     "output_type": "stream",
     "text": [
      "Fold 4 started at Thu Oct 31 14:11:32 2019\n",
      "Training until validation scores don't improve for 30 rounds\n",
      "Early stopping, best iteration is:\n",
      "[2]\ttraining's binary_error: 0.18516\tvalid_1's binary_error: 0.18512\n"
     ]
    },
    {
     "name": "stderr",
     "output_type": "stream",
     "text": [
      "\n",
      "\n",
      "\n",
      "\n",
      "5it [00:25,  5.14s/it]\n"
     ]
    },
    {
     "name": "stdout",
     "output_type": "stream",
     "text": [
      "Wall time: 25.7 s\n"
     ]
    }
   ],
   "source": [
    "%%time\n",
    "y_pred_lgb = np.zeros(len(X_test))\n",
    "for fold_n, (train_index, valid_index) in tqdm(enumerate(folds.split(X))):\n",
    "    print('Fold', fold_n, 'started at', time.ctime())\n",
    "    X_train, X_valid = X.iloc[train_index], X.iloc[valid_index]\n",
    "    y_train, y_valid = y.iloc[train_index], y.iloc[valid_index]\n",
    "        \n",
    "    model = lgb.LGBMRegressor(**params, n_estimators = 300000, n_jobs = -1)\n",
    "    model.fit(X_train, y_train, \n",
    "                    eval_set=[(X_train, y_train), (X_valid, y_valid)], eval_metric='binary_error',\n",
    "                    verbose=1000, early_stopping_rounds=30)\n",
    "            \n",
    "    y_pred_valid = model.predict(X_valid)"
   ]
  },
  {
   "cell_type": "markdown",
   "metadata": {},
   "source": [
    "# Undersampling"
   ]
  },
  {
   "cell_type": "code",
   "execution_count": 122,
   "metadata": {},
   "outputs": [],
   "source": [
    "# Separate classes\n",
    "data_0 = data[data.GRADE==0]\n",
    "data_1 = data[data.GRADE==1]\n",
    "data_2 = data[data.GRADE==2]\n",
    "data_3 = data[data.GRADE==3]"
   ]
  },
  {
   "cell_type": "code",
   "execution_count": 124,
   "metadata": {},
   "outputs": [
    {
     "data": {
      "text/html": [
       "<div>\n",
       "<style scoped>\n",
       "    .dataframe tbody tr th:only-of-type {\n",
       "        vertical-align: middle;\n",
       "    }\n",
       "\n",
       "    .dataframe tbody tr th {\n",
       "        vertical-align: top;\n",
       "    }\n",
       "\n",
       "    .dataframe thead th {\n",
       "        text-align: right;\n",
       "    }\n",
       "</style>\n",
       "<table border=\"1\" class=\"dataframe\">\n",
       "  <thead>\n",
       "    <tr style=\"text-align: right;\">\n",
       "      <th></th>\n",
       "      <th>DX_CONF</th>\n",
       "      <th>REPT_SRC</th>\n",
       "      <th>RECNOREC</th>\n",
       "      <th>SITERWHO</th>\n",
       "      <th>BEHTREND</th>\n",
       "      <th>IHSLINK</th>\n",
       "      <th>REG_Connecticut</th>\n",
       "      <th>REG_Greater California</th>\n",
       "      <th>REG_Greater Georgia</th>\n",
       "      <th>REG_Hawaii</th>\n",
       "      <th>...</th>\n",
       "      <th>SCSSM2KO_Other</th>\n",
       "      <th>AGE_DX</th>\n",
       "      <th>YR_BIRTH</th>\n",
       "      <th>SEQ_NUM</th>\n",
       "      <th>MDXRECMP</th>\n",
       "      <th>YEAR_DX</th>\n",
       "      <th>GRADE</th>\n",
       "      <th>AGE_IREC</th>\n",
       "      <th>FIRSTPRM</th>\n",
       "      <th>TARGET</th>\n",
       "    </tr>\n",
       "  </thead>\n",
       "  <tbody>\n",
       "    <tr>\n",
       "      <td>count</td>\n",
       "      <td>135397.000000</td>\n",
       "      <td>135397.000000</td>\n",
       "      <td>135397.00000</td>\n",
       "      <td>135397.000000</td>\n",
       "      <td>135397.000000</td>\n",
       "      <td>135397.000000</td>\n",
       "      <td>135397.000000</td>\n",
       "      <td>135397.000000</td>\n",
       "      <td>135397.000000</td>\n",
       "      <td>135397.000000</td>\n",
       "      <td>...</td>\n",
       "      <td>135397.000000</td>\n",
       "      <td>135397.000000</td>\n",
       "      <td>135397.000000</td>\n",
       "      <td>135397.000000</td>\n",
       "      <td>135397.000000</td>\n",
       "      <td>135397.000000</td>\n",
       "      <td>135397.0</td>\n",
       "      <td>135397.000000</td>\n",
       "      <td>135397.000000</td>\n",
       "      <td>135397.0</td>\n",
       "    </tr>\n",
       "    <tr>\n",
       "      <td>mean</td>\n",
       "      <td>0.997777</td>\n",
       "      <td>1.200824</td>\n",
       "      <td>662706.72376</td>\n",
       "      <td>21045.873579</td>\n",
       "      <td>2.989675</td>\n",
       "      <td>0.019838</td>\n",
       "      <td>0.040518</td>\n",
       "      <td>0.151185</td>\n",
       "      <td>0.040968</td>\n",
       "      <td>0.010842</td>\n",
       "      <td>...</td>\n",
       "      <td>0.269917</td>\n",
       "      <td>68.679963</td>\n",
       "      <td>44.199295</td>\n",
       "      <td>0.542324</td>\n",
       "      <td>6.414751</td>\n",
       "      <td>2007.386877</td>\n",
       "      <td>2.0</td>\n",
       "      <td>99822.987732</td>\n",
       "      <td>0.199879</td>\n",
       "      <td>1.0</td>\n",
       "    </tr>\n",
       "    <tr>\n",
       "      <td>std</td>\n",
       "      <td>0.047097</td>\n",
       "      <td>1.099561</td>\n",
       "      <td>253095.38340</td>\n",
       "      <td>3.967170</td>\n",
       "      <td>0.101087</td>\n",
       "      <td>0.192182</td>\n",
       "      <td>0.197171</td>\n",
       "      <td>0.358230</td>\n",
       "      <td>0.198218</td>\n",
       "      <td>0.103560</td>\n",
       "      <td>...</td>\n",
       "      <td>0.443918</td>\n",
       "      <td>14.344692</td>\n",
       "      <td>15.348001</td>\n",
       "      <td>0.918624</td>\n",
       "      <td>3.411978</td>\n",
       "      <td>4.824953</td>\n",
       "      <td>0.0</td>\n",
       "      <td>27889.969212</td>\n",
       "      <td>0.399911</td>\n",
       "      <td>0.0</td>\n",
       "    </tr>\n",
       "    <tr>\n",
       "      <td>min</td>\n",
       "      <td>0.000000</td>\n",
       "      <td>1.000000</td>\n",
       "      <td>4.00000</td>\n",
       "      <td>21041.000000</td>\n",
       "      <td>2.000000</td>\n",
       "      <td>0.000000</td>\n",
       "      <td>0.000000</td>\n",
       "      <td>0.000000</td>\n",
       "      <td>0.000000</td>\n",
       "      <td>0.000000</td>\n",
       "      <td>...</td>\n",
       "      <td>0.000000</td>\n",
       "      <td>6.000000</td>\n",
       "      <td>0.000000</td>\n",
       "      <td>0.000000</td>\n",
       "      <td>1.000000</td>\n",
       "      <td>2000.000000</td>\n",
       "      <td>2.0</td>\n",
       "      <td>7.000000</td>\n",
       "      <td>0.000000</td>\n",
       "      <td>1.0</td>\n",
       "    </tr>\n",
       "    <tr>\n",
       "      <td>25%</td>\n",
       "      <td>1.000000</td>\n",
       "      <td>1.000000</td>\n",
       "      <td>779121.00000</td>\n",
       "      <td>21043.000000</td>\n",
       "      <td>3.000000</td>\n",
       "      <td>0.000000</td>\n",
       "      <td>0.000000</td>\n",
       "      <td>0.000000</td>\n",
       "      <td>0.000000</td>\n",
       "      <td>0.000000</td>\n",
       "      <td>...</td>\n",
       "      <td>0.000000</td>\n",
       "      <td>59.000000</td>\n",
       "      <td>32.000000</td>\n",
       "      <td>0.000000</td>\n",
       "      <td>3.000000</td>\n",
       "      <td>2003.000000</td>\n",
       "      <td>2.0</td>\n",
       "      <td>89181.000000</td>\n",
       "      <td>0.000000</td>\n",
       "      <td>1.0</td>\n",
       "    </tr>\n",
       "    <tr>\n",
       "      <td>50%</td>\n",
       "      <td>1.000000</td>\n",
       "      <td>1.000000</td>\n",
       "      <td>779121.00000</td>\n",
       "      <td>21045.000000</td>\n",
       "      <td>3.000000</td>\n",
       "      <td>0.000000</td>\n",
       "      <td>0.000000</td>\n",
       "      <td>0.000000</td>\n",
       "      <td>0.000000</td>\n",
       "      <td>0.000000</td>\n",
       "      <td>...</td>\n",
       "      <td>0.000000</td>\n",
       "      <td>71.000000</td>\n",
       "      <td>42.000000</td>\n",
       "      <td>0.000000</td>\n",
       "      <td>6.000000</td>\n",
       "      <td>2007.000000</td>\n",
       "      <td>2.0</td>\n",
       "      <td>112513.000000</td>\n",
       "      <td>0.000000</td>\n",
       "      <td>1.0</td>\n",
       "    </tr>\n",
       "    <tr>\n",
       "      <td>75%</td>\n",
       "      <td>1.000000</td>\n",
       "      <td>1.000000</td>\n",
       "      <td>779121.00000</td>\n",
       "      <td>21049.000000</td>\n",
       "      <td>3.000000</td>\n",
       "      <td>0.000000</td>\n",
       "      <td>0.000000</td>\n",
       "      <td>0.000000</td>\n",
       "      <td>0.000000</td>\n",
       "      <td>0.000000</td>\n",
       "      <td>...</td>\n",
       "      <td>1.000000</td>\n",
       "      <td>80.000000</td>\n",
       "      <td>55.000000</td>\n",
       "      <td>1.000000</td>\n",
       "      <td>9.000000</td>\n",
       "      <td>2011.000000</td>\n",
       "      <td>2.0</td>\n",
       "      <td>118019.000000</td>\n",
       "      <td>0.000000</td>\n",
       "      <td>1.0</td>\n",
       "    </tr>\n",
       "    <tr>\n",
       "      <td>max</td>\n",
       "      <td>1.000000</td>\n",
       "      <td>8.000000</td>\n",
       "      <td>779121.00000</td>\n",
       "      <td>21052.000000</td>\n",
       "      <td>3.000000</td>\n",
       "      <td>2.000000</td>\n",
       "      <td>1.000000</td>\n",
       "      <td>1.000000</td>\n",
       "      <td>1.000000</td>\n",
       "      <td>1.000000</td>\n",
       "      <td>...</td>\n",
       "      <td>1.000000</td>\n",
       "      <td>107.000000</td>\n",
       "      <td>115.000000</td>\n",
       "      <td>5.000000</td>\n",
       "      <td>12.000000</td>\n",
       "      <td>2016.000000</td>\n",
       "      <td>2.0</td>\n",
       "      <td>121717.000000</td>\n",
       "      <td>1.000000</td>\n",
       "      <td>1.0</td>\n",
       "    </tr>\n",
       "  </tbody>\n",
       "</table>\n",
       "<p>8 rows × 98 columns</p>\n",
       "</div>"
      ],
      "text/plain": [
       "             DX_CONF       REPT_SRC      RECNOREC       SITERWHO  \\\n",
       "count  135397.000000  135397.000000  135397.00000  135397.000000   \n",
       "mean        0.997777       1.200824  662706.72376   21045.873579   \n",
       "std         0.047097       1.099561  253095.38340       3.967170   \n",
       "min         0.000000       1.000000       4.00000   21041.000000   \n",
       "25%         1.000000       1.000000  779121.00000   21043.000000   \n",
       "50%         1.000000       1.000000  779121.00000   21045.000000   \n",
       "75%         1.000000       1.000000  779121.00000   21049.000000   \n",
       "max         1.000000       8.000000  779121.00000   21052.000000   \n",
       "\n",
       "            BEHTREND        IHSLINK  REG_Connecticut  REG_Greater California  \\\n",
       "count  135397.000000  135397.000000    135397.000000           135397.000000   \n",
       "mean        2.989675       0.019838         0.040518                0.151185   \n",
       "std         0.101087       0.192182         0.197171                0.358230   \n",
       "min         2.000000       0.000000         0.000000                0.000000   \n",
       "25%         3.000000       0.000000         0.000000                0.000000   \n",
       "50%         3.000000       0.000000         0.000000                0.000000   \n",
       "75%         3.000000       0.000000         0.000000                0.000000   \n",
       "max         3.000000       2.000000         1.000000                1.000000   \n",
       "\n",
       "       REG_Greater Georgia     REG_Hawaii  ...  SCSSM2KO_Other         AGE_DX  \\\n",
       "count        135397.000000  135397.000000  ...   135397.000000  135397.000000   \n",
       "mean              0.040968       0.010842  ...        0.269917      68.679963   \n",
       "std               0.198218       0.103560  ...        0.443918      14.344692   \n",
       "min               0.000000       0.000000  ...        0.000000       6.000000   \n",
       "25%               0.000000       0.000000  ...        0.000000      59.000000   \n",
       "50%               0.000000       0.000000  ...        0.000000      71.000000   \n",
       "75%               0.000000       0.000000  ...        1.000000      80.000000   \n",
       "max               1.000000       1.000000  ...        1.000000     107.000000   \n",
       "\n",
       "            YR_BIRTH        SEQ_NUM       MDXRECMP        YEAR_DX     GRADE  \\\n",
       "count  135397.000000  135397.000000  135397.000000  135397.000000  135397.0   \n",
       "mean       44.199295       0.542324       6.414751    2007.386877       2.0   \n",
       "std        15.348001       0.918624       3.411978       4.824953       0.0   \n",
       "min         0.000000       0.000000       1.000000    2000.000000       2.0   \n",
       "25%        32.000000       0.000000       3.000000    2003.000000       2.0   \n",
       "50%        42.000000       0.000000       6.000000    2007.000000       2.0   \n",
       "75%        55.000000       1.000000       9.000000    2011.000000       2.0   \n",
       "max       115.000000       5.000000      12.000000    2016.000000       2.0   \n",
       "\n",
       "            AGE_IREC       FIRSTPRM    TARGET  \n",
       "count  135397.000000  135397.000000  135397.0  \n",
       "mean    99822.987732       0.199879       1.0  \n",
       "std     27889.969212       0.399911       0.0  \n",
       "min         7.000000       0.000000       1.0  \n",
       "25%     89181.000000       0.000000       1.0  \n",
       "50%    112513.000000       0.000000       1.0  \n",
       "75%    118019.000000       0.000000       1.0  \n",
       "max    121717.000000       1.000000       1.0  \n",
       "\n",
       "[8 rows x 98 columns]"
      ]
     },
     "execution_count": 124,
     "metadata": {},
     "output_type": "execute_result"
    }
   ],
   "source": [
    "data_2.describe()"
   ]
  },
  {
   "cell_type": "code",
   "execution_count": 125,
   "metadata": {},
   "outputs": [],
   "source": [
    "# Downsample majority class\n",
    "data_0_downsampled = resample(data_0, \n",
    "                                 replace=False,    # sample without replacement\n",
    "                                 n_samples=10000,     # to match minority class\n",
    "                                 random_state=123) # reproducible results\n",
    "data_1_downsampled = resample(data_1, \n",
    "                                 replace=False,    # sample without replacement\n",
    "                                 n_samples=10000,     # to match minority class\n",
    "                                 random_state=123) # reproducible results\n",
    "data_2_downsampled = resample(data_2, \n",
    "                                 replace=False,    # sample without replacement\n",
    "                                 n_samples=10000,     # to match minority class\n",
    "                                 random_state=123) # reproducible results\n",
    "data_3_downsampled = resample(data_3, \n",
    "                                 replace=False,    # sample without replacement\n",
    "                                 n_samples=10000,     # to match minority class\n",
    "                                 random_state=123) # reproducible results\n"
   ]
  },
  {
   "cell_type": "code",
   "execution_count": 126,
   "metadata": {},
   "outputs": [],
   "source": [
    "sampled_data = pd.concat([data_0_downsampled, data_1_downsampled, \n",
    "                          data_2_downsampled, data_3_downsampled])"
   ]
  },
  {
   "cell_type": "code",
   "execution_count": 136,
   "metadata": {},
   "outputs": [],
   "source": [
    "sampled_data.to_csv(\"Sampled_binary_class.csv\")"
   ]
  },
  {
   "cell_type": "code",
   "execution_count": 127,
   "metadata": {},
   "outputs": [
    {
     "data": {
      "text/html": [
       "<div>\n",
       "<style scoped>\n",
       "    .dataframe tbody tr th:only-of-type {\n",
       "        vertical-align: middle;\n",
       "    }\n",
       "\n",
       "    .dataframe tbody tr th {\n",
       "        vertical-align: top;\n",
       "    }\n",
       "\n",
       "    .dataframe thead th {\n",
       "        text-align: right;\n",
       "    }\n",
       "</style>\n",
       "<table border=\"1\" class=\"dataframe\">\n",
       "  <thead>\n",
       "    <tr style=\"text-align: right;\">\n",
       "      <th></th>\n",
       "      <th>DX_CONF</th>\n",
       "      <th>REPT_SRC</th>\n",
       "      <th>RECNOREC</th>\n",
       "      <th>SITERWHO</th>\n",
       "      <th>BEHTREND</th>\n",
       "      <th>IHSLINK</th>\n",
       "      <th>REG_Connecticut</th>\n",
       "      <th>REG_Greater California</th>\n",
       "      <th>REG_Greater Georgia</th>\n",
       "      <th>REG_Hawaii</th>\n",
       "      <th>...</th>\n",
       "      <th>SCSSM2KO_Other</th>\n",
       "      <th>AGE_DX</th>\n",
       "      <th>YR_BIRTH</th>\n",
       "      <th>SEQ_NUM</th>\n",
       "      <th>MDXRECMP</th>\n",
       "      <th>YEAR_DX</th>\n",
       "      <th>GRADE</th>\n",
       "      <th>AGE_IREC</th>\n",
       "      <th>FIRSTPRM</th>\n",
       "      <th>TARGET</th>\n",
       "    </tr>\n",
       "  </thead>\n",
       "  <tbody>\n",
       "    <tr>\n",
       "      <td>768845</td>\n",
       "      <td>1</td>\n",
       "      <td>1</td>\n",
       "      <td>779121</td>\n",
       "      <td>21052</td>\n",
       "      <td>3</td>\n",
       "      <td>0</td>\n",
       "      <td>0</td>\n",
       "      <td>0</td>\n",
       "      <td>0</td>\n",
       "      <td>0</td>\n",
       "      <td>...</td>\n",
       "      <td>0</td>\n",
       "      <td>93.0</td>\n",
       "      <td>20</td>\n",
       "      <td>0</td>\n",
       "      <td>1</td>\n",
       "      <td>2008</td>\n",
       "      <td>0</td>\n",
       "      <td>112513</td>\n",
       "      <td>0</td>\n",
       "      <td>0</td>\n",
       "    </tr>\n",
       "    <tr>\n",
       "      <td>730518</td>\n",
       "      <td>1</td>\n",
       "      <td>1</td>\n",
       "      <td>779121</td>\n",
       "      <td>21042</td>\n",
       "      <td>3</td>\n",
       "      <td>0</td>\n",
       "      <td>0</td>\n",
       "      <td>0</td>\n",
       "      <td>0</td>\n",
       "      <td>0</td>\n",
       "      <td>...</td>\n",
       "      <td>0</td>\n",
       "      <td>54.0</td>\n",
       "      <td>56</td>\n",
       "      <td>0</td>\n",
       "      <td>5</td>\n",
       "      <td>2004</td>\n",
       "      <td>0</td>\n",
       "      <td>80595</td>\n",
       "      <td>0</td>\n",
       "      <td>0</td>\n",
       "    </tr>\n",
       "    <tr>\n",
       "      <td>862432</td>\n",
       "      <td>1</td>\n",
       "      <td>1</td>\n",
       "      <td>134276</td>\n",
       "      <td>21041</td>\n",
       "      <td>3</td>\n",
       "      <td>0</td>\n",
       "      <td>0</td>\n",
       "      <td>0</td>\n",
       "      <td>0</td>\n",
       "      <td>0</td>\n",
       "      <td>...</td>\n",
       "      <td>1</td>\n",
       "      <td>81.0</td>\n",
       "      <td>26</td>\n",
       "      <td>2</td>\n",
       "      <td>5</td>\n",
       "      <td>2001</td>\n",
       "      <td>0</td>\n",
       "      <td>109130</td>\n",
       "      <td>1</td>\n",
       "      <td>0</td>\n",
       "    </tr>\n",
       "    <tr>\n",
       "      <td>432190</td>\n",
       "      <td>1</td>\n",
       "      <td>1</td>\n",
       "      <td>779121</td>\n",
       "      <td>21041</td>\n",
       "      <td>3</td>\n",
       "      <td>0</td>\n",
       "      <td>0</td>\n",
       "      <td>1</td>\n",
       "      <td>0</td>\n",
       "      <td>0</td>\n",
       "      <td>...</td>\n",
       "      <td>0</td>\n",
       "      <td>61.0</td>\n",
       "      <td>59</td>\n",
       "      <td>0</td>\n",
       "      <td>10</td>\n",
       "      <td>2015</td>\n",
       "      <td>0</td>\n",
       "      <td>101326</td>\n",
       "      <td>0</td>\n",
       "      <td>0</td>\n",
       "    </tr>\n",
       "    <tr>\n",
       "      <td>439550</td>\n",
       "      <td>1</td>\n",
       "      <td>1</td>\n",
       "      <td>779121</td>\n",
       "      <td>21048</td>\n",
       "      <td>3</td>\n",
       "      <td>0</td>\n",
       "      <td>0</td>\n",
       "      <td>1</td>\n",
       "      <td>0</td>\n",
       "      <td>0</td>\n",
       "      <td>...</td>\n",
       "      <td>0</td>\n",
       "      <td>27.0</td>\n",
       "      <td>95</td>\n",
       "      <td>0</td>\n",
       "      <td>10</td>\n",
       "      <td>2016</td>\n",
       "      <td>0</td>\n",
       "      <td>7</td>\n",
       "      <td>0</td>\n",
       "      <td>0</td>\n",
       "    </tr>\n",
       "  </tbody>\n",
       "</table>\n",
       "<p>5 rows × 98 columns</p>\n",
       "</div>"
      ],
      "text/plain": [
       "        DX_CONF  REPT_SRC  RECNOREC  SITERWHO  BEHTREND  IHSLINK  \\\n",
       "768845        1         1    779121     21052         3        0   \n",
       "730518        1         1    779121     21042         3        0   \n",
       "862432        1         1    134276     21041         3        0   \n",
       "432190        1         1    779121     21041         3        0   \n",
       "439550        1         1    779121     21048         3        0   \n",
       "\n",
       "        REG_Connecticut  REG_Greater California  REG_Greater Georgia  \\\n",
       "768845                0                       0                    0   \n",
       "730518                0                       0                    0   \n",
       "862432                0                       0                    0   \n",
       "432190                0                       1                    0   \n",
       "439550                0                       1                    0   \n",
       "\n",
       "        REG_Hawaii  ...  SCSSM2KO_Other  AGE_DX  YR_BIRTH  SEQ_NUM  MDXRECMP  \\\n",
       "768845           0  ...               0    93.0        20        0         1   \n",
       "730518           0  ...               0    54.0        56        0         5   \n",
       "862432           0  ...               1    81.0        26        2         5   \n",
       "432190           0  ...               0    61.0        59        0        10   \n",
       "439550           0  ...               0    27.0        95        0        10   \n",
       "\n",
       "        YEAR_DX  GRADE  AGE_IREC  FIRSTPRM  TARGET  \n",
       "768845     2008      0    112513         0       0  \n",
       "730518     2004      0     80595         0       0  \n",
       "862432     2001      0    109130         1       0  \n",
       "432190     2015      0    101326         0       0  \n",
       "439550     2016      0         7         0       0  \n",
       "\n",
       "[5 rows x 98 columns]"
      ]
     },
     "execution_count": 127,
     "metadata": {},
     "output_type": "execute_result"
    }
   ],
   "source": [
    "sampled_data.head()"
   ]
  },
  {
   "cell_type": "code",
   "execution_count": 128,
   "metadata": {},
   "outputs": [],
   "source": [
    "X_sampled = sampled_data.drop(['GRADE','TARGET'],axis=1)"
   ]
  },
  {
   "cell_type": "code",
   "execution_count": 129,
   "metadata": {},
   "outputs": [],
   "source": [
    "y_sampled = sampled_data['TARGET']"
   ]
  },
  {
   "cell_type": "code",
   "execution_count": 130,
   "metadata": {},
   "outputs": [],
   "source": [
    "X_sampled_train, X_sampled_test, y_sampled_train, y_sampled_test = train_test_split(X_sampled, \n",
    "                                                                                    y_sampled, test_size=0.3, random_state=42)"
   ]
  },
  {
   "cell_type": "markdown",
   "metadata": {},
   "source": [
    "## LGBM"
   ]
  },
  {
   "cell_type": "code",
   "execution_count": 131,
   "metadata": {},
   "outputs": [],
   "source": [
    "folds = KFold(n_splits=5, shuffle=True, random_state=42)"
   ]
  },
  {
   "cell_type": "code",
   "execution_count": 134,
   "metadata": {},
   "outputs": [],
   "source": [
    "params = {'objective' : \"binary\",\n",
    "               'num_class':1,\n",
    "               'boosting':\"gbdt\",\n",
    "               'metric':\"binary_error\",\n",
    "               'boost_from_average':\"false\",\n",
    "               'num_threads':8,\n",
    "               'learning_rate' : 0.0001,\n",
    "               'num_leaves' : 51,\n",
    "               'max_depth':-1,\n",
    "               'tree_learner' : \"serial\",\n",
    "               'feature_fraction' : 0.85,\n",
    "               'bagging_freq' : 1,\n",
    "               'bagging_fraction' : 0.85,\n",
    "               'min_data_in_leaf' : 10,\n",
    "               'verbosity' : -1}"
   ]
  },
  {
   "cell_type": "code",
   "execution_count": 135,
   "metadata": {},
   "outputs": [
    {
     "name": "stderr",
     "output_type": "stream",
     "text": [
      "\n",
      "\n",
      "\n",
      "\n",
      "0it [00:00, ?it/s]"
     ]
    },
    {
     "name": "stdout",
     "output_type": "stream",
     "text": [
      "Fold 0 started at Thu Oct 31 15:49:31 2019\n",
      "Training until validation scores don't improve for 30 rounds\n",
      "Early stopping, best iteration is:\n",
      "[33]\ttraining's binary_error: 0.191844\tvalid_1's binary_error: 0.193\n"
     ]
    },
    {
     "name": "stderr",
     "output_type": "stream",
     "text": [
      "\n",
      "\n",
      "\n",
      "\n",
      "1it [00:01,  1.24s/it]"
     ]
    },
    {
     "name": "stdout",
     "output_type": "stream",
     "text": [
      "Fold 1 started at Thu Oct 31 15:49:32 2019\n",
      "Training until validation scores don't improve for 30 rounds\n",
      "Early stopping, best iteration is:\n",
      "[14]\ttraining's binary_error: 0.192656\tvalid_1's binary_error: 0.19075\n"
     ]
    },
    {
     "name": "stderr",
     "output_type": "stream",
     "text": [
      "\n",
      "\n",
      "\n",
      "\n",
      "2it [00:02,  1.18s/it]"
     ]
    },
    {
     "name": "stdout",
     "output_type": "stream",
     "text": [
      "Fold 2 started at Thu Oct 31 15:49:34 2019\n",
      "Training until validation scores don't improve for 30 rounds\n",
      "Early stopping, best iteration is:\n",
      "[27]\ttraining's binary_error: 0.191469\tvalid_1's binary_error: 0.193875\n"
     ]
    },
    {
     "name": "stderr",
     "output_type": "stream",
     "text": [
      "\n",
      "\n",
      "\n",
      "\n",
      "3it [00:03,  1.20s/it]"
     ]
    },
    {
     "name": "stdout",
     "output_type": "stream",
     "text": [
      "Fold 3 started at Thu Oct 31 15:49:35 2019\n",
      "Training until validation scores don't improve for 30 rounds\n",
      "Early stopping, best iteration is:\n",
      "[10]\ttraining's binary_error: 0.191375\tvalid_1's binary_error: 0.195875\n"
     ]
    },
    {
     "name": "stderr",
     "output_type": "stream",
     "text": [
      "\n",
      "\n",
      "\n",
      "\n",
      "4it [00:04,  1.14s/it]"
     ]
    },
    {
     "name": "stdout",
     "output_type": "stream",
     "text": [
      "Fold 4 started at Thu Oct 31 15:49:36 2019\n",
      "Training until validation scores don't improve for 30 rounds\n",
      "Early stopping, best iteration is:\n",
      "[21]\ttraining's binary_error: 0.191875\tvalid_1's binary_error: 0.1925\n"
     ]
    },
    {
     "name": "stderr",
     "output_type": "stream",
     "text": [
      "\n",
      "\n",
      "\n",
      "\n",
      "5it [00:05,  1.14s/it]\n"
     ]
    },
    {
     "name": "stdout",
     "output_type": "stream",
     "text": [
      "Wall time: 5.73 s\n"
     ]
    }
   ],
   "source": [
    "%%time\n",
    "y_pred_lgb = np.zeros(len(X_test))\n",
    "for fold_n, (train_index, valid_index) in tqdm(enumerate(folds.split(X_sampled))):\n",
    "    print('Fold', fold_n, 'started at', time.ctime())\n",
    "    X_train, X_valid = X.iloc[train_index], X.iloc[valid_index]\n",
    "    y_train, y_valid = y.iloc[train_index], y.iloc[valid_index]\n",
    "        \n",
    "    model = lgb.LGBMRegressor(**params, n_estimators = 2000, n_jobs = -1)\n",
    "    model.fit(X_train, y_train, \n",
    "                    eval_set=[(X_train, y_train), (X_valid, y_valid)], eval_metric='binary_error',\n",
    "                    verbose=1000, early_stopping_rounds=30)\n",
    "            \n",
    "    y_pred_valid = model.predict(X_valid)"
   ]
  }
 ],
 "metadata": {
  "kernelspec": {
   "display_name": "Python 3",
   "language": "python",
   "name": "python3"
  },
  "language_info": {
   "codemirror_mode": {
    "name": "ipython",
    "version": 3
   },
   "file_extension": ".py",
   "mimetype": "text/x-python",
   "name": "python",
   "nbconvert_exporter": "python",
   "pygments_lexer": "ipython3",
   "version": "3.7.4"
  }
 },
 "nbformat": 4,
 "nbformat_minor": 2
}
